{
 "cells": [
  {
   "cell_type": "markdown",
   "id": "30611ae4",
   "metadata": {},
   "source": [
    "# Importing Libraries"
   ]
  },
  {
   "cell_type": "code",
   "execution_count": 1,
   "id": "98efcbd8",
   "metadata": {},
   "outputs": [],
   "source": [
    "import numpy as np\n",
    "import pandas as pd"
   ]
  },
  {
   "cell_type": "code",
   "execution_count": 2,
   "id": "ca1f7126",
   "metadata": {},
   "outputs": [],
   "source": [
    "from tensorflow.keras import datasets"
   ]
  },
  {
   "cell_type": "code",
   "execution_count": 3,
   "id": "475b621c",
   "metadata": {},
   "outputs": [],
   "source": [
    "(x_train, y_train), (x_test, y_test) = datasets.mnist.load_data()"
   ]
  },
  {
   "cell_type": "code",
   "execution_count": 4,
   "id": "f3520f2a",
   "metadata": {},
   "outputs": [
    {
     "data": {
      "text/plain": [
       "array([[[0, 0, 0, ..., 0, 0, 0],\n",
       "        [0, 0, 0, ..., 0, 0, 0],\n",
       "        [0, 0, 0, ..., 0, 0, 0],\n",
       "        ...,\n",
       "        [0, 0, 0, ..., 0, 0, 0],\n",
       "        [0, 0, 0, ..., 0, 0, 0],\n",
       "        [0, 0, 0, ..., 0, 0, 0]],\n",
       "\n",
       "       [[0, 0, 0, ..., 0, 0, 0],\n",
       "        [0, 0, 0, ..., 0, 0, 0],\n",
       "        [0, 0, 0, ..., 0, 0, 0],\n",
       "        ...,\n",
       "        [0, 0, 0, ..., 0, 0, 0],\n",
       "        [0, 0, 0, ..., 0, 0, 0],\n",
       "        [0, 0, 0, ..., 0, 0, 0]],\n",
       "\n",
       "       [[0, 0, 0, ..., 0, 0, 0],\n",
       "        [0, 0, 0, ..., 0, 0, 0],\n",
       "        [0, 0, 0, ..., 0, 0, 0],\n",
       "        ...,\n",
       "        [0, 0, 0, ..., 0, 0, 0],\n",
       "        [0, 0, 0, ..., 0, 0, 0],\n",
       "        [0, 0, 0, ..., 0, 0, 0]],\n",
       "\n",
       "       ...,\n",
       "\n",
       "       [[0, 0, 0, ..., 0, 0, 0],\n",
       "        [0, 0, 0, ..., 0, 0, 0],\n",
       "        [0, 0, 0, ..., 0, 0, 0],\n",
       "        ...,\n",
       "        [0, 0, 0, ..., 0, 0, 0],\n",
       "        [0, 0, 0, ..., 0, 0, 0],\n",
       "        [0, 0, 0, ..., 0, 0, 0]],\n",
       "\n",
       "       [[0, 0, 0, ..., 0, 0, 0],\n",
       "        [0, 0, 0, ..., 0, 0, 0],\n",
       "        [0, 0, 0, ..., 0, 0, 0],\n",
       "        ...,\n",
       "        [0, 0, 0, ..., 0, 0, 0],\n",
       "        [0, 0, 0, ..., 0, 0, 0],\n",
       "        [0, 0, 0, ..., 0, 0, 0]],\n",
       "\n",
       "       [[0, 0, 0, ..., 0, 0, 0],\n",
       "        [0, 0, 0, ..., 0, 0, 0],\n",
       "        [0, 0, 0, ..., 0, 0, 0],\n",
       "        ...,\n",
       "        [0, 0, 0, ..., 0, 0, 0],\n",
       "        [0, 0, 0, ..., 0, 0, 0],\n",
       "        [0, 0, 0, ..., 0, 0, 0]]], dtype=uint8)"
      ]
     },
     "execution_count": 4,
     "metadata": {},
     "output_type": "execute_result"
    }
   ],
   "source": [
    "x_train"
   ]
  },
  {
   "cell_type": "code",
   "execution_count": 5,
   "id": "41b851b5",
   "metadata": {},
   "outputs": [
    {
     "data": {
      "text/plain": [
       "array([5, 0, 4, ..., 5, 6, 8], dtype=uint8)"
      ]
     },
     "execution_count": 5,
     "metadata": {},
     "output_type": "execute_result"
    }
   ],
   "source": [
    "y_train"
   ]
  },
  {
   "cell_type": "code",
   "execution_count": 6,
   "id": "074775b3",
   "metadata": {},
   "outputs": [
    {
     "data": {
      "text/plain": [
       "(60000, 28, 28)"
      ]
     },
     "execution_count": 6,
     "metadata": {},
     "output_type": "execute_result"
    }
   ],
   "source": [
    "x_train.shape"
   ]
  },
  {
   "cell_type": "code",
   "execution_count": 7,
   "id": "01060457",
   "metadata": {},
   "outputs": [
    {
     "data": {
      "text/plain": [
       "(10000, 28, 28)"
      ]
     },
     "execution_count": 7,
     "metadata": {},
     "output_type": "execute_result"
    }
   ],
   "source": [
    "x_test.shape"
   ]
  },
  {
   "cell_type": "code",
   "execution_count": 8,
   "id": "efd9ef8d",
   "metadata": {},
   "outputs": [],
   "source": [
    "width, height = 28, 28\n",
    "input_shape = (width, height, 1)"
   ]
  },
  {
   "cell_type": "code",
   "execution_count": 9,
   "id": "5fa9f7ad",
   "metadata": {},
   "outputs": [
    {
     "data": {
      "text/plain": [
       "(28, 28, 1)"
      ]
     },
     "execution_count": 9,
     "metadata": {},
     "output_type": "execute_result"
    }
   ],
   "source": [
    "input_shape"
   ]
  },
  {
   "cell_type": "code",
   "execution_count": 10,
   "id": "b7e5bf56",
   "metadata": {},
   "outputs": [],
   "source": [
    "x_train = x_train.reshape(x_train.shape[0], width, height, 1)\n",
    "x_test = x_test.reshape(x_test.shape[0], width, height, 1)"
   ]
  },
  {
   "cell_type": "code",
   "execution_count": 11,
   "id": "b7078369",
   "metadata": {},
   "outputs": [
    {
     "data": {
      "text/plain": [
       "(60000, 28, 28, 1)"
      ]
     },
     "execution_count": 11,
     "metadata": {},
     "output_type": "execute_result"
    }
   ],
   "source": [
    "x_train.shape"
   ]
  },
  {
   "cell_type": "code",
   "execution_count": 12,
   "id": "6e74c15c",
   "metadata": {},
   "outputs": [
    {
     "data": {
      "text/plain": [
       "(10000, 28, 28, 1)"
      ]
     },
     "execution_count": 12,
     "metadata": {},
     "output_type": "execute_result"
    }
   ],
   "source": [
    "x_test.shape"
   ]
  },
  {
   "cell_type": "code",
   "execution_count": 13,
   "id": "67ace4c1",
   "metadata": {},
   "outputs": [
    {
     "data": {
      "text/plain": [
       "(60000,)"
      ]
     },
     "execution_count": 13,
     "metadata": {},
     "output_type": "execute_result"
    }
   ],
   "source": [
    "y_train.shape"
   ]
  },
  {
   "cell_type": "code",
   "execution_count": 14,
   "id": "b63d3b39",
   "metadata": {
    "scrolled": true
   },
   "outputs": [],
   "source": [
    "from sklearn.model_selection import train_test_split\n",
    "x_train, x_val, y_train, y_val = train_test_split(x_train, y_train, test_size = 0.1)"
   ]
  },
  {
   "cell_type": "code",
   "execution_count": 15,
   "id": "f39bf6bd",
   "metadata": {},
   "outputs": [
    {
     "data": {
      "text/plain": [
       "54000"
      ]
     },
     "execution_count": 15,
     "metadata": {},
     "output_type": "execute_result"
    }
   ],
   "source": [
    "len(x_train)"
   ]
  },
  {
   "cell_type": "code",
   "execution_count": 16,
   "id": "a287d00b",
   "metadata": {},
   "outputs": [
    {
     "data": {
      "text/plain": [
       "6000"
      ]
     },
     "execution_count": 16,
     "metadata": {},
     "output_type": "execute_result"
    }
   ],
   "source": [
    "len(x_val)"
   ]
  },
  {
   "cell_type": "code",
   "execution_count": 17,
   "id": "7482c414",
   "metadata": {},
   "outputs": [],
   "source": [
    "x_train = (x_train - x_train.mean()) / x_train.std()\n",
    "x_val= (x_val - x_val.mean()) / x_val.std()\n",
    "x_test= (x_test - x_test.mean()) / x_test.std()"
   ]
  },
  {
   "cell_type": "code",
   "execution_count": 18,
   "id": "c9ca4e1c",
   "metadata": {},
   "outputs": [],
   "source": [
    "from tensorflow  import keras"
   ]
  },
  {
   "cell_type": "code",
   "execution_count": 19,
   "id": "f6691c12",
   "metadata": {},
   "outputs": [],
   "source": [
    "num_labels = 10\n",
    "y_train = keras.utils.to_categorical(y_train)"
   ]
  },
  {
   "cell_type": "code",
   "execution_count": 20,
   "id": "784357fd",
   "metadata": {},
   "outputs": [
    {
     "data": {
      "text/plain": [
       "array([[0., 0., 0., ..., 0., 0., 0.],\n",
       "       [0., 0., 0., ..., 0., 0., 1.],\n",
       "       [0., 0., 0., ..., 0., 0., 1.],\n",
       "       ...,\n",
       "       [0., 0., 0., ..., 0., 0., 0.],\n",
       "       [0., 0., 0., ..., 0., 0., 0.],\n",
       "       [1., 0., 0., ..., 0., 0., 0.]], dtype=float32)"
      ]
     },
     "execution_count": 20,
     "metadata": {},
     "output_type": "execute_result"
    }
   ],
   "source": [
    "y_train"
   ]
  },
  {
   "cell_type": "code",
   "execution_count": 21,
   "id": "7ad9cb3d",
   "metadata": {},
   "outputs": [],
   "source": [
    "y_val = keras.utils.to_categorical(y_val)\n",
    "y_test = keras.utils.to_categorical(y_test)"
   ]
  },
  {
   "cell_type": "markdown",
   "id": "bb7569d0",
   "metadata": {},
   "source": [
    "# Model"
   ]
  },
  {
   "cell_type": "code",
   "execution_count": 22,
   "id": "c0a1dc53",
   "metadata": {},
   "outputs": [],
   "source": [
    "from tensorflow.keras.models import Sequential\n",
    "from tensorflow.keras.layers import Dense, Dropout, Flatten, Input, Conv2D, MaxPooling2D, AveragePooling2D"
   ]
  },
  {
   "cell_type": "code",
   "execution_count": 28,
   "id": "c8695905",
   "metadata": {},
   "outputs": [],
   "source": [
    "model = Sequential()\n",
    "\n",
    "model.add(Conv2D(6, kernel_size = (5,5), strides = (1,1), activation = 'tanh', input_shape  = (28, 28, 1)))\n",
    "model.add(AveragePooling2D(pool_size = (2, 2), strides = (1,1)))\n",
    "model.add(Conv2D(16, kernel_size = (5, 5), strides = (1, 1), activation = 'tanh'))\n",
    "model.add(AveragePooling2D(pool_size = (2, 2), strides=(2, 2)))\n",
    "model.add(Conv2D(120, kernel_size = (5, 5), strides = (1, 1), activation = 'tanh'))\n",
    "\n",
    "\n",
    "model.add(Flatten())\n",
    "model.add(Dense(84, activation = 'tanh'))\n",
    "model.add(Dense(num_labels, activation='softmax'))"
   ]
  },
  {
   "cell_type": "code",
   "execution_count": 31,
   "id": "643c04be",
   "metadata": {},
   "outputs": [
    {
     "name": "stdout",
     "output_type": "stream",
     "text": [
      "Model: \"sequential_3\"\n",
      "_________________________________________________________________\n",
      " Layer (type)                Output Shape              Param #   \n",
      "=================================================================\n",
      " conv2d_6 (Conv2D)           (None, 24, 24, 6)         156       \n",
      "                                                                 \n",
      " average_pooling2d_4 (Averag  (None, 23, 23, 6)        0         \n",
      " ePooling2D)                                                     \n",
      "                                                                 \n",
      " conv2d_7 (Conv2D)           (None, 19, 19, 16)        2416      \n",
      "                                                                 \n",
      " average_pooling2d_5 (Averag  (None, 9, 9, 16)         0         \n",
      " ePooling2D)                                                     \n",
      "                                                                 \n",
      " conv2d_8 (Conv2D)           (None, 5, 5, 120)         48120     \n",
      "                                                                 \n",
      " flatten_1 (Flatten)         (None, 3000)              0         \n",
      "                                                                 \n",
      " dense_2 (Dense)             (None, 84)                252084    \n",
      "                                                                 \n",
      " dense_3 (Dense)             (None, 10)                850       \n",
      "                                                                 \n",
      "=================================================================\n",
      "Total params: 303,626\n",
      "Trainable params: 303,626\n",
      "Non-trainable params: 0\n",
      "_________________________________________________________________\n"
     ]
    }
   ],
   "source": [
    "model.summary()"
   ]
  },
  {
   "cell_type": "code",
   "execution_count": 32,
   "id": "77acfdb7",
   "metadata": {},
   "outputs": [],
   "source": [
    "model.compile(loss = keras.losses.categorical_crossentropy, optimizer = 'adam', metrics = ['accuracy'])"
   ]
  },
  {
   "cell_type": "code",
   "execution_count": 34,
   "id": "c3ad9921",
   "metadata": {},
   "outputs": [
    {
     "name": "stdout",
     "output_type": "stream",
     "text": [
      "Epoch 1/20\n",
      "1688/1688 [==============================] - 20s 12ms/step - loss: 0.1922 - accuracy: 0.9425 - val_loss: 0.0924 - val_accuracy: 0.9730\n",
      "Epoch 2/20\n",
      "1688/1688 [==============================] - 18s 11ms/step - loss: 0.0920 - accuracy: 0.9723 - val_loss: 0.0813 - val_accuracy: 0.9757\n",
      "Epoch 3/20\n",
      "1688/1688 [==============================] - 18s 11ms/step - loss: 0.0784 - accuracy: 0.9759 - val_loss: 0.0799 - val_accuracy: 0.9763\n",
      "Epoch 4/20\n",
      "1688/1688 [==============================] - 20s 12ms/step - loss: 0.0713 - accuracy: 0.9781 - val_loss: 0.0784 - val_accuracy: 0.9742\n",
      "Epoch 5/20\n",
      "1688/1688 [==============================] - 19s 11ms/step - loss: 0.0670 - accuracy: 0.9787 - val_loss: 0.0622 - val_accuracy: 0.9828\n",
      "Epoch 6/20\n",
      "1688/1688 [==============================] - 18s 11ms/step - loss: 0.0615 - accuracy: 0.9812 - val_loss: 0.0554 - val_accuracy: 0.9830\n",
      "Epoch 7/20\n",
      "1688/1688 [==============================] - 19s 11ms/step - loss: 0.0584 - accuracy: 0.9819 - val_loss: 0.0618 - val_accuracy: 0.9837\n",
      "Epoch 8/20\n",
      "1688/1688 [==============================] - 19s 11ms/step - loss: 0.0539 - accuracy: 0.9838 - val_loss: 0.0604 - val_accuracy: 0.9828\n",
      "Epoch 9/20\n",
      "1688/1688 [==============================] - 19s 11ms/step - loss: 0.0524 - accuracy: 0.9838 - val_loss: 0.0681 - val_accuracy: 0.9785\n",
      "Epoch 10/20\n",
      "1688/1688 [==============================] - 19s 12ms/step - loss: 0.0495 - accuracy: 0.9845 - val_loss: 0.0497 - val_accuracy: 0.9855\n",
      "Epoch 11/20\n",
      "1688/1688 [==============================] - 21s 12ms/step - loss: 0.0471 - accuracy: 0.9856 - val_loss: 0.0506 - val_accuracy: 0.9857\n",
      "Epoch 12/20\n",
      "1688/1688 [==============================] - 19s 11ms/step - loss: 0.0486 - accuracy: 0.9851 - val_loss: 0.0767 - val_accuracy: 0.9787\n",
      "Epoch 13/20\n",
      "1688/1688 [==============================] - 19s 11ms/step - loss: 0.0467 - accuracy: 0.9852 - val_loss: 0.0563 - val_accuracy: 0.9835\n",
      "Epoch 14/20\n",
      "1688/1688 [==============================] - 20s 12ms/step - loss: 0.0455 - accuracy: 0.9853 - val_loss: 0.0561 - val_accuracy: 0.9837\n",
      "Epoch 15/20\n",
      "1688/1688 [==============================] - 20s 12ms/step - loss: 0.0460 - accuracy: 0.9861 - val_loss: 0.0553 - val_accuracy: 0.9860\n",
      "Epoch 16/20\n",
      "1688/1688 [==============================] - 20s 12ms/step - loss: 0.0431 - accuracy: 0.9863 - val_loss: 0.0593 - val_accuracy: 0.9828\n",
      "Epoch 17/20\n",
      "1688/1688 [==============================] - 19s 11ms/step - loss: 0.0410 - accuracy: 0.9871 - val_loss: 0.0728 - val_accuracy: 0.9808\n",
      "Epoch 18/20\n",
      "1688/1688 [==============================] - 20s 12ms/step - loss: 0.0424 - accuracy: 0.9870 - val_loss: 0.0679 - val_accuracy: 0.9838\n",
      "Epoch 19/20\n",
      "1688/1688 [==============================] - 19s 12ms/step - loss: 0.0438 - accuracy: 0.9859 - val_loss: 0.0532 - val_accuracy: 0.9858\n",
      "Epoch 20/20\n",
      "1688/1688 [==============================] - 20s 12ms/step - loss: 0.0388 - accuracy: 0.9877 - val_loss: 0.0600 - val_accuracy: 0.9830\n"
     ]
    }
   ],
   "source": [
    "history = model.fit(x_train, y_train, batch_size = 32, epochs = 20, verbose = 1, validation_data  = (x_val, y_val))"
   ]
  },
  {
   "cell_type": "code",
   "execution_count": 36,
   "id": "00475525",
   "metadata": {},
   "outputs": [
    {
     "name": "stdout",
     "output_type": "stream",
     "text": [
      "313/313 [==============================] - 2s 5ms/step - loss: 0.0496 - accuracy: 0.9848\n"
     ]
    }
   ],
   "source": [
    "score = model.evaluate(x_test, y_test, verbose = 1)"
   ]
  },
  {
   "cell_type": "code",
   "execution_count": 38,
   "id": "052b9e30",
   "metadata": {},
   "outputs": [
    {
     "data": {
      "text/plain": [
       "[0.04961680248379707, 0.9847999811172485]"
      ]
     },
     "execution_count": 38,
     "metadata": {},
     "output_type": "execute_result"
    }
   ],
   "source": [
    "score"
   ]
  },
  {
   "cell_type": "code",
   "execution_count": null,
   "id": "dc07a608",
   "metadata": {},
   "outputs": [],
   "source": []
  }
 ],
 "metadata": {
  "kernelspec": {
   "display_name": "Python 3 (ipykernel)",
   "language": "python",
   "name": "python3"
  },
  "language_info": {
   "codemirror_mode": {
    "name": "ipython",
    "version": 3
   },
   "file_extension": ".py",
   "mimetype": "text/x-python",
   "name": "python",
   "nbconvert_exporter": "python",
   "pygments_lexer": "ipython3",
   "version": "3.9.7"
  }
 },
 "nbformat": 4,
 "nbformat_minor": 5
}
